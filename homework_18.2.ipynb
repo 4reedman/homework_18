{
 "cells": [
  {
   "cell_type": "markdown",
   "metadata": {},
   "source": [
    "Imports librarys"
   ]
  },
  {
   "cell_type": "code",
   "execution_count": 45,
   "metadata": {},
   "outputs": [],
   "source": [
    "from sqlalchemy import create_engine, Column, Integer, String, Boolean, DateTime, ForeignKey, func\n",
    "from sqlalchemy.orm import sessionmaker, declarative_base\n",
    "from datetime import datetime, timedelta\n"
   ]
  },
  {
   "cell_type": "markdown",
   "metadata": {},
   "source": [
    "Creating connection, engine, session"
   ]
  },
  {
   "cell_type": "code",
   "execution_count": 46,
   "metadata": {},
   "outputs": [],
   "source": [
    "DATABASE_HW18_1 = 'postgresql://{user}:{password}@{host}:{port}/{database}'\n",
    "\n",
    "Base = declarative_base()\n",
    "engine = create_engine(\n",
    "    DATABASE_HW18_1.format(\n",
    "        host='127.0.0.1',\n",
    "        database='Homework_18.1',\n",
    "        user='Freedman',\n",
    "        password='solo4solo',\n",
    "        port=5432,\n",
    "    )\n",
    ")\n",
    "Session = sessionmaker(bind=engine)\n",
    "session = Session()"
   ]
  },
  {
   "cell_type": "markdown",
   "metadata": {},
   "source": [
    "Creatong tables"
   ]
  },
  {
   "cell_type": "code",
   "execution_count": 47,
   "metadata": {},
   "outputs": [],
   "source": [
    "class Host(Base):\n",
    "    __tablename__ = 'hosts'\n",
    "    id_hosts = Column(Integer, primary_key=True)\n",
    "    host_name = Column(String(30), nullable=False)\n",
    "    rating = Column(Integer, nullable=False)\n",
    "\n",
    "class Guest(Base):\n",
    "    __tablename__ = 'guests'\n",
    "    guest_id = Column(Integer, primary_key=True)\n",
    "    guest_name = Column(String(30), nullable=False)\n",
    "    gender = Column(String(10), nullable=False)\n",
    "    country = Column(String(30), nullable=False)\n",
    "\n",
    "class Room(Base):\n",
    "    __tablename__ = 'room'\n",
    "    room_id = Column(Integer, primary_key=True)\n",
    "    host_id = Column(Integer, ForeignKey('hosts.id_hosts'))\n",
    "    refrigerator = Column(Boolean, nullable=False)\n",
    "    ac = Column(Boolean, nullable=False)\n",
    "    city = Column(String(30), nullable=False)\n",
    "    amount_residents = Column(Integer, nullable=False)\n",
    "    available = Column(Boolean, nullable=False)\n",
    "\n",
    "class Payment(Base):\n",
    "    __tablename__ = 'payment'\n",
    "    payment_id = Column(Integer, primary_key=True)\n",
    "    host_id = Column(Integer, ForeignKey('hosts.id_hosts'))\n",
    "    guest_id = Column(Integer, ForeignKey('guests.guest_id'))\n",
    "    amount = Column(Integer, nullable=False)\n",
    "    payment_date = Column(DateTime, nullable=False)\n",
    "\n",
    "class Reservation(Base):\n",
    "    __tablename__ = 'reservation'\n",
    "    reservation_id = Column(Integer, primary_key=True)\n",
    "    room_id = Column(Integer, ForeignKey('room.room_id'))\n",
    "    guest_id = Column(Integer, ForeignKey('guests.guest_id'))\n",
    "    from_date = Column(DateTime, nullable=False)\n",
    "    till_date = Column(DateTime, nullable=False)\n",
    "\n",
    "class Review(Base):\n",
    "    __tablename__ = 'review'\n",
    "    review_id = Column(Integer, primary_key=True)\n",
    "    host_id = Column(Integer, ForeignKey('hosts.id_hosts'))\n",
    "    guest_id = Column(Integer, ForeignKey('guests.guest_id'))\n",
    "    rating = Column(Integer, nullable=False)\n",
    "\n",
    "\n",
    "Base.metadata.create_all(engine)"
   ]
  },
  {
   "cell_type": "markdown",
   "metadata": {},
   "source": [
    "inserting data using context mannager"
   ]
  },
  {
   "cell_type": "code",
   "execution_count": 48,
   "metadata": {},
   "outputs": [],
   "source": [
    "with session:\n",
    "    host_1 = Host(id_hosts=1, host_name='Joseph Liberman', rating=5)\n",
    "    host_2 =  Host(id_hosts=2, host_name='Elizabet Moan', rating=7)\n",
    "    host_3 = Host(id_hosts=3, host_name='Felix Hosmann', rating=9)\n",
    "    session.add_all([host_1, host_2, host_3])\n",
    "\n",
    "    guest_1 = Guest(guest_id=101, guest_name='Jerry Seinfeld', gender='male', country='USA')\n",
    "    guest_2 = Guest(guest_id=102, guest_name='Julia Louis-Dreyfus', gender='female', country='USA')\n",
    "    guest_3 = Guest(guest_id=103, guest_name='Michael Richards', gender='male', country='USA')\n",
    "    session.add_all([guest_1, guest_2, guest_3])\n",
    "\n",
    "    room_1 = Room(room_id=1001, host_id=1, refrigerator=True, ac=True, city='New York', amount_residents=2, available=True)\n",
    "    room_2 = Room(room_id=1002, host_id=2, refrigerator=False, ac=True, city='London', amount_residents=1, available=True)\n",
    "    room_3 = Room(room_id=1003, host_id=3, refrigerator=True, ac=False, city='Los Angeles', amount_residents=3, available=True)\n",
    "    session.add_all([room_1, room_2, room_3])\n",
    "    session.commit()\n",
    "    \n",
    "    payment_1 = Payment(payment_id=10001, host_id=1, guest_id=101, amount=1000, payment_date=datetime(2023, 7, 21))\n",
    "    payment_2 = Payment(payment_id=10002, host_id=2, guest_id=103, amount=2000, payment_date=datetime(2023, 9, 22))\n",
    "    payment_3 = Payment(payment_id=10003, host_id=2, guest_id=103, amount=3000, payment_date=datetime(2023, 9, 24))\n",
    "    payment_4 = Payment(payment_id=10005, host_id=3, guest_id=102, amount=1500, payment_date=datetime(2023, 10, 23))\n",
    "    payment_5 = Payment(payment_id=10006, host_id=3, guest_id=102, amount=2500, payment_date=datetime(2023, 10, 23))\n",
    "    payment_6 = Payment(payment_id=10007, host_id=3, guest_id=102, amount=3500, payment_date=datetime(2023, 10, 23))\n",
    "    session.add_all([payment_1, payment_2, payment_3, payment_4, payment_5, payment_6])\n",
    "\n",
    "    \n",
    "    reservation_1 = Reservation(reservation_id=123, room_id=1001, guest_id=101, from_date=datetime(2023, 7, 21), till_date=datetime(2023, 7, 25))\n",
    "    reservation_2 = Reservation(reservation_id=456, room_id=1002, guest_id=102, from_date=datetime(2023, 9, 22), till_date=datetime(2023, 9, 30))\n",
    "    reservation_3 = Reservation(reservation_id=789, room_id=1003, guest_id=103, from_date=datetime(2023, 10, 23), till_date=datetime(2023, 9, 28))\n",
    "    reservation_4 = Reservation(reservation_id=911, room_id=1002, guest_id=102, from_date=datetime(2023, 9, 22), till_date=datetime(2023, 9,30))\n",
    "    reservation_5 = Reservation(reservation_id=921, room_id=1002, guest_id=102, from_date=datetime(2023, 8, 22), till_date=datetime(2023, 8, 31))\n",
    "    reservation_6 = Reservation(reservation_id=931, room_id=1002, guest_id=103, from_date=datetime(2023, 10, 22), till_date=datetime(2023, 11, 21))\n",
    "    session.add_all([reservation_1,reservation_2, reservation_3, reservation_4, reservation_5, reservation_6])\n",
    " \n",
    "    review_1 = Review(review_id=321, host_id=1, guest_id=101, rating=8)\n",
    "    review_2 = Review(review_id=654, host_id=2, guest_id=102, rating=7)\n",
    "    review_3 = Review(review_id=987, host_id=3, guest_id=103, rating=4)\n",
    "    review_4 = Review(review_id=988, host_id=1, guest_id=102, rating=2)\n",
    "    review_5 = Review(review_id=989, host_id=2, guest_id=102, rating=2)\n",
    "    review_6 = Review(review_id=990, host_id=3, guest_id=102, rating=5)\n",
    "\n",
    "    session.add_all([review_1, review_2, review_3, review_4, review_5, review_6])\n",
    "    session.commit()\n"
   ]
  },
  {
   "cell_type": "markdown",
   "metadata": {},
   "source": [
    "querry1 Find a user( guest) who had the biggest amount of reservations. Return guest name and guest_id"
   ]
  },
  {
   "cell_type": "code",
   "execution_count": 49,
   "metadata": {},
   "outputs": [
    {
     "name": "stdout",
     "output_type": "stream",
     "text": [
      " ID: 102, Name: Julia Louis-Dreyfus, Reservations: 3\n"
     ]
    }
   ],
   "source": [
    "most_reservations = session.query(Guest.guest_id, Guest.guest_name, func.count(Reservation.reservation_id).label('reservation_count')\n",
    ").join(Reservation, Guest.guest_id == Reservation.guest_id).group_by(Guest.guest_id).order_by(func.count(Reservation.reservation_id).desc()).first()\n",
    "\n",
    "guest_id, guest_name, reservation_count = most_reservations\n",
    "print(f\" ID: {guest_id}, Name: {guest_name}, Reservations: {reservation_count}\")\n"
   ]
  },
  {
   "cell_type": "markdown",
   "metadata": {},
   "source": [
    "querry2  Find a host who earned the biggest amount of money. Return hostname and host_id"
   ]
  },
  {
   "cell_type": "code",
   "execution_count": 56,
   "metadata": {},
   "outputs": [
    {
     "name": "stdout",
     "output_type": "stream",
     "text": [
      "Host ID: 3, Host Name: Felix Hosmann, Total Payments: 7500\n"
     ]
    }
   ],
   "source": [
    "richest_host = session.query(\n",
    "    Host.id_hosts,\n",
    "    Host.host_name,\n",
    "    func.sum(Payment.amount).label('total_payments')\n",
    ").filter(\n",
    "    Payment.host_id == Host.id_hosts\n",
    ").group_by(Host.id_hosts, Host.host_name).order_by(func.sum(Payment.amount).desc()).first()\n",
    "\n",
    "if richest_host:\n",
    "    host_id, host_name, total_payments = richest_host\n",
    "    print(f\"Id: {host_id}, Name: {host_name}, earnings: {total_payments}\")\n"
   ]
  },
  {
   "cell_type": "markdown",
   "metadata": {},
   "source": [
    "Find a host with the best average rating. Return hostname and host_id"
   ]
  },
  {
   "cell_type": "code",
   "execution_count": 54,
   "metadata": {},
   "outputs": [
    {
     "name": "stdout",
     "output_type": "stream",
     "text": [
      "ID: 1, Name: Joseph Liberman, Avg_rating: 5.00)\n"
     ]
    }
   ],
   "source": [
    "most_rated_host = session.query(Host.id_hosts, Host.host_name, func.avg(Review.rating).label('average_rating')).filter(Review.host_id == Host.id_hosts\n",
    ").group_by(Host.id_hosts, Host.host_name).order_by(func.avg(Review.rating).desc()).first()\n",
    "\n",
    "host_id, host_name, average_rating = most_rated_host\n",
    "print(f\"ID: {host_id}, Name: {host_name}, Avg_rating: {round (average_rating, 2)})\")\n"
   ]
  }
 ],
 "metadata": {
  "kernelspec": {
   "display_name": "Python 3",
   "language": "python",
   "name": "python3"
  },
  "language_info": {
   "codemirror_mode": {
    "name": "ipython",
    "version": 3
   },
   "file_extension": ".py",
   "mimetype": "text/x-python",
   "name": "python",
   "nbconvert_exporter": "python",
   "pygments_lexer": "ipython3",
   "version": "3.11.4"
  },
  "orig_nbformat": 4
 },
 "nbformat": 4,
 "nbformat_minor": 2
}
