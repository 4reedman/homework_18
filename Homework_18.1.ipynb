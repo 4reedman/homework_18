{
 "cells": [
  {
   "cell_type": "markdown",
   "metadata": {},
   "source": [
    "Add models for student, subject and student_subject from previous lessons in SQLAlchemy."
   ]
  },
  {
   "cell_type": "code",
   "execution_count": 56,
   "metadata": {},
   "outputs": [],
   "source": [
    "from sqlalchemy import Column, Integer, String, create_engine, ForeignKey\n",
    "from sqlalchemy.orm import sessionmaker, relationship, mapped_column, Mapped, declarative_base\n",
    "from random import randint, choice\n",
    "\n",
    "\n",
    "DATABASE_HW18 = 'postgresql://{user}:{password}@{host}:{port}/{database}'\n",
    "\n",
    "Base = declarative_base()\n",
    "engine = create_engine(\n",
    "    DATABASE_HW18.format(\n",
    "        host='127.0.0.1',\n",
    "        database='Homework_18',\n",
    "        user='Freedman',\n",
    "        password='solo4solo',\n",
    "        port=5432,\n",
    "    )\n",
    ")\n",
    "\n",
    "Session = sessionmaker(bind=engine)\n",
    "session = Session()\n",
    "\n",
    "class Student(Base):\n",
    "    __tablename__ = 'Students'\n",
    "    id = Column(Integer, primary_key=True)\n",
    "    name = Column(String)\n",
    "    age = Column(Integer)\n",
    "    subjects = relationship(\"Subject\", secondary=\"student_subject\")\n",
    "\n",
    "    def __str__(self):\n",
    "        return f'This is {self.id} student {self.name}. Age: {self.age}'\n",
    "\n",
    "    def __repr__(self):\n",
    "        return f'This is {self.id} student {self.name}. Age: {self.age}'\n",
    "    \n",
    "\n",
    "class Subject(Base):\n",
    "    __tablename__ = 'Subjects'\n",
    "    id = Column(Integer, primary_key=True)\n",
    "    subject_name = Column(String)\n",
    "    students = relationship(\"Student\", secondary=\"student_subject\")\n",
    "\n",
    "    def __str__(self):\n",
    "        return f' ID: {self.id} subject: {self.name}'\n",
    "\n",
    "    def __repr__(self):\n",
    "        return f'ID: {self.id} subject: {self.name}'\n",
    "    \n",
    "\n",
    "class Student_subject(Base):\n",
    "    __tablename__ = 'student_subject'\n",
    "    id = Column(Integer, primary_key=True)\n",
    "    subject_id = mapped_column(ForeignKey('Subjects.id'))\n",
    "    student_id = mapped_column(ForeignKey(\"Students.id\"))\n",
    "\n",
    "Base.metadata.create_all(engine)\n"
   ]
  },
  {
   "cell_type": "code",
   "execution_count": 47,
   "metadata": {},
   "outputs": [],
   "source": [
    "\n",
    "with session:\n",
    "        student_1 = Student(name= 'Petro', age=18)\n",
    "        student_2 = Student(name= 'Alex', age=28)\n",
    "        student_3 = Student(name= 'Taras', age=16)\n",
    "session.add_all([student_1, student_2, student_3])\n",
    "session.commit()"
   ]
  },
  {
   "cell_type": "code",
   "execution_count": 45,
   "metadata": {},
   "outputs": [],
   "source": [
    "with session:\n",
    "    subject_1 = Subject(subject_name= 'English')\n",
    "    subject_2 = Subject(subject_name= 'Math')\n",
    "    subject_3 = Subject(subject_name= 'Ukrainian')\n",
    "    session.add_all([subject_1, subject_2, subject_3])\n",
    "    session.commit()\n"
   ]
  },
  {
   "cell_type": "code",
   "execution_count": 53,
   "metadata": {},
   "outputs": [],
   "source": [
    "\n",
    "with session:\n",
    "    for i in range(10): \n",
    "        sub_stud = Student_subject(subject_id = randint(1, 3), student_id = randint(1, 3))\n",
    "        session.add(sub_stud)\n",
    "    session.commit()"
   ]
  },
  {
   "cell_type": "markdown",
   "metadata": {},
   "source": [
    "Find all students` name that visited 'English' classes"
   ]
  },
  {
   "cell_type": "code",
   "execution_count": 58,
   "metadata": {},
   "outputs": [
    {
     "name": "stdout",
     "output_type": "stream",
     "text": [
      "Alex\n"
     ]
    }
   ],
   "source": [
    "students_in_eng = session.query(Student).join(Student.subjects).filter(Subject.subject_name == 'English').all()\n",
    "for student in students_in_eng:\n",
    "    print(student.name)"
   ]
  }
 ],
 "metadata": {
  "kernelspec": {
   "display_name": "Python 3",
   "language": "python",
   "name": "python3"
  },
  "language_info": {
   "codemirror_mode": {
    "name": "ipython",
    "version": 3
   },
   "file_extension": ".py",
   "mimetype": "text/x-python",
   "name": "python",
   "nbconvert_exporter": "python",
   "pygments_lexer": "ipython3",
   "version": "3.11.4"
  },
  "orig_nbformat": 4
 },
 "nbformat": 4,
 "nbformat_minor": 2
}
